{
 "cells": [
  {
   "cell_type": "code",
   "execution_count": 4,
   "metadata": {
    "collapsed": false
   },
   "outputs": [
    {
     "ename": "ImportError",
     "evalue": "cannot import name NuclearNormPGD",
     "output_type": "error",
     "traceback": [
      "\u001b[0;31m---------------------------------------------------------------------------\u001b[0m",
      "\u001b[0;31mImportError\u001b[0m                               Traceback (most recent call last)",
      "\u001b[0;32m<ipython-input-4-c89d47f43e8d>\u001b[0m in \u001b[0;36m<module>\u001b[0;34m()\u001b[0m\n\u001b[1;32m      1\u001b[0m \u001b[0;32mimport\u001b[0m \u001b[0mtime\u001b[0m\u001b[0;34m\u001b[0m\u001b[0m\n\u001b[1;32m      2\u001b[0m \u001b[0;32mimport\u001b[0m \u001b[0mFORTE\u001b[0m\u001b[0;34m.\u001b[0m\u001b[0mutils\u001b[0m \u001b[0;32mas\u001b[0m \u001b[0mutils\u001b[0m\u001b[0;34m\u001b[0m\u001b[0m\n\u001b[0;32m----> 3\u001b[0;31m \u001b[0;32mfrom\u001b[0m \u001b[0mFORTE\u001b[0m\u001b[0;34m.\u001b[0m\u001b[0malgorithms\u001b[0m \u001b[0;32mimport\u001b[0m \u001b[0mNuclearNormPGD\u001b[0m\u001b[0;34m,\u001b[0m \u001b[0mFactoredGradient\u001b[0m\u001b[0;34m\u001b[0m\u001b[0m\n\u001b[0m\u001b[1;32m      4\u001b[0m \u001b[0;32mimport\u001b[0m \u001b[0mblackbox\u001b[0m\u001b[0;34m\u001b[0m\u001b[0m\n\u001b[1;32m      5\u001b[0m \u001b[0;32mimport\u001b[0m \u001b[0mnumpy\u001b[0m \u001b[0;32mas\u001b[0m \u001b[0mnp\u001b[0m\u001b[0;34m\u001b[0m\u001b[0m\n",
      "\u001b[0;31mImportError\u001b[0m: cannot import name NuclearNormPGD"
     ]
    }
   ],
   "source": [
    "import time\n",
    "import FORTE.utils as utils\n",
    "from FORTE.algorithms import Rank\n",
    "import blackbox\n",
    "import numpy as np\n",
    "import matplotlib.pyplot as plt"
   ]
  },
  {
   "cell_type": "markdown",
   "metadata": {},
   "source": [
    "Generate noisy triplet data from a more general logistic."
   ]
  },
  {
   "cell_type": "code",
   "execution_count": 2,
   "metadata": {
    "collapsed": false
   },
   "outputs": [
    {
     "name": "stdout",
     "output_type": "stream",
     "text": [
      "Bayes error rate train: 0.504778240627\n",
      "Bayes error rate test: 0.515314873805\n"
     ]
    }
   ],
   "source": [
    "n = 30\n",
    "d = 2\n",
    "num_triplets = 20*d*n*np.log(n)\n",
    "\n",
    "Xtrue = 5*np.random.randn(n, d)\n",
    "Xtrue = Xtrue - 1. / n * np.dot(np.ones((n, n)),  Xtrue)\n",
    "Mtrue = np.dot(Xtrue, Xtrue.transpose())\n",
    "\n",
    "def biased_logistic(X, q):\n",
    "    i,j,k = q\n",
    "    r = 1/(2+np.exp(-5*utils.triplet_scoreX(X,q)))\n",
    "    return r\n",
    "\n",
    "# Train and test set\n",
    "Strain = utils.triplets(Xtrue, num_triplets, biased_logistic)\n",
    "Stest = utils.triplets(Xtrue, num_triplets, biased_logistic)\n",
    "\n",
    "print \"Bayes error rate train:\", utils.empirical_lossX(Xtrue, Strain)\n",
    "print \"Bayes error rate test:\", utils.empirical_lossX(Xtrue, Stest)"
   ]
  },
  {
   "cell_type": "markdown",
   "metadata": {},
   "source": [
    "Now embed the points using normal logistic loss as the link and plot."
   ]
  },
  {
   "cell_type": "code",
   "execution_count": 3,
   "metadata": {
    "collapsed": false
   },
   "outputs": [
    {
     "name": "stdout",
     "output_type": "stream",
     "text": [
      "Empirical Training loss = 0.452095074737,Empirical Test loss = 0.49448664543\n"
     ]
    },
    {
     "data": {
      "image/png": "[encoded data removed]",
      "text/plain": [
       "<matplotlib.figure.Figure at 0x10db04710>"
      ]
     },
     "metadata": {},
     "output_type": "display_data"
    }
   ],
   "source": [
    "Xhat = FactoredGradient.computeEmbedding(n, d, Strain,\n",
    "                                         num_random_restarts=0,\n",
    "                                         max_num_passes_SGD=16, max_iter_GD=50,\n",
    "                                         max_norm=1, epsilon=0.01, verbose=False)\n",
    "print ('Empirical Training loss = {},' \n",
    "       'Empirical Test loss = {}').format(utils.empirical_lossX(Xhat, Strain),\n",
    "                                          utils.empirical_lossX(Xhat, Stest))\n",
    "\n",
    "_, Xpro, _ = utils.procrustes(Xtrue, Xhat)\n",
    "plt.figure(1)\n",
    "plt.subplot(121); plt.plot(*zip(*Xtrue), marker='o', color='r', ls='')\n",
    "plt.subplot(122); plt.plot(*zip(*Xpro), marker='o', color='b', ls='')\n",
    "plt.show()"
   ]
  },
  {
   "cell_type": "code",
   "execution_count": null,
   "metadata": {
    "collapsed": true
   },
   "outputs": [],
   "source": []
  }
 ],
 "metadata": {
  "anaconda-cloud": {},
  "kernelspec": {
   "display_name": "Python [conda env:blackbox]",
   "language": "python",
   "name": "conda-env-blackbox-py"
  },
  "language_info": {
   "codemirror_mode": {
    "name": "ipython",
    "version": 2
   },
   "file_extension": ".py",
   "mimetype": "text/x-python",
   "name": "python",
   "nbconvert_exporter": "python",
   "pygments_lexer": "ipython2",
   "version": "2.7.12"
  }
 },
 "nbformat": 4,
 "nbformat_minor": 1
}
