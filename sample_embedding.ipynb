{
 "cells": [
  {
   "cell_type": "markdown",
   "metadata": {},
   "source": [
    "# How to embed using FORTE:"
   ]
  },
  {
   "cell_type": "code",
   "execution_count": 20,
   "metadata": {
    "collapsed": false
   },
   "outputs": [],
   "source": [
    "%matplotlib inline\n",
    "from __future__ import division, print_function\n",
    "\n",
    "import numpy as np \n",
    "import matplotlib.pyplot as plt\n",
    "\n",
    "import FORTE.utils as utils\n",
    "from FORTE.algorithms import FactoredGradientSGD"
   ]
  },
  {
   "cell_type": "markdown",
   "metadata": {},
   "source": [
    "## 1) Lets make some synthetic data"
   ]
  },
  {
   "cell_type": "code",
   "execution_count": 25,
   "metadata": {
    "collapsed": true
   },
   "outputs": [],
   "source": [
    "n = 20                                       # Number of points\n",
    "d = 2                                        # Dimension of embedding\n",
    "pulls = int(30*n*d*np.log(n))                # number of triplets to collect\n",
    "Xtrue = np.random.randn(n, d)/np.sqrt(d)     # n points within the d-dimensional sphere\n",
    "\n",
    "# Generate #pulls triplets with logistic noise\n",
    "triplets_train = utils.triplets(Xtrue, pulls, noise_func=utils.logistic_noise)\n",
    "triplets_test = utils.triplets(Xtrue, pulls, noise_func=utils.logistic_noise)"
   ]
  },
  {
   "cell_type": "markdown",
   "metadata": {},
   "source": [
    "## 2) Learn with the Factored Gradient algorithm"
   ]
  },
  {
   "cell_type": "code",
   "execution_count": 29,
   "metadata": {
    "collapsed": false
   },
   "outputs": [],
   "source": [
    "max_num_passes_SGD = 32   # number of SGD passes over the data\n",
    "max_iter_GD = 100         # number of gradient iterations\n",
    "max_norm = 1.0            # how large may the points be? We created points with expected norm 1\n",
    "epsilon = 1e-5            # To what precision do we learn?\n",
    "\n",
    "# Compute the embedding\n",
    "Xhat = FactoredGradientSGD.computeEmbedding(n, d, triplets_train, \n",
    "                                            max_num_passes_SGD=max_num_passes_SGD,\n",
    "                                            max_iter_GD=max_iter_GD,\n",
    "                                            max_norm=max_norm,\n",
    "                                            epsilon=epsilon,\n",
    "                                            verbose=False)"
   ]
  },
  {
   "cell_type": "markdown",
   "metadata": {},
   "source": [
    "## 3) Some statistics for how we did:"
   ]
  },
  {
   "cell_type": "code",
   "execution_count": 30,
   "metadata": {
    "collapsed": false
   },
   "outputs": [
    {
     "name": "stdout",
     "output_type": "stream",
     "text": [
      "Training error of learned embedding: 0.203116304953, Bayes error on training set: 0.20673344463\n",
      "Test error of learned embedding: 0.198107957707, Bayes error on test set: 0.195047301057\n",
      "Relative error: 0.0114739968589\n"
     ]
    }
   ],
   "source": [
    "# Compute the error with respect to the true embedding for reference\n",
    "err_true_train = utils.empirical_lossX(Xtrue, triplets_train)\n",
    "err_true_test = utils.empirical_lossX(Xtrue, triplets_test)\n",
    "\n",
    "# Compute the error of the learned embedding\n",
    "err_learned_train = utils.empirical_lossX(Xhat, triplets_train)\n",
    "err_learned_test = utils.empirical_lossX(Xhat, triplets_test)\n",
    "\n",
    "# relative error of the learned embedding\n",
    "_, Xpro, _ = utils.procrustes(Xtrue, Xhat)       # Procrustes transform to align points\n",
    "relative_error = np.linalg.norm(Xpro - Xtrue, ord='fro')**2/np.linalg.norm(Xtrue, ord='fro')**2\n",
    "\n",
    "# print results\n",
    "print('Training error of learned embedding: {}, Bayes error on training set: {}'.format(err_learned_train, err_true_train))\n",
    "print('Test error of learned embedding: {}, Bayes error on test set: {}'.format(err_learned_test, err_true_test))\n",
    "print('Relative error: {}'.format(relative_error))"
   ]
  },
  {
   "cell_type": "markdown",
   "metadata": {},
   "source": [
    "## 4) Plot results"
   ]
  },
  {
   "cell_type": "code",
   "execution_count": 31,
   "metadata": {
    "collapsed": false
   },
   "outputs": [
    {
     "data": {
      "image/png": "[encoded data removed]",
      "text/plain": [
       "<matplotlib.figure.Figure at 0x10e4dfa10>"
      ]
     },
     "metadata": {},
     "output_type": "display_data"
    }
   ],
   "source": [
    "plt.figure(1)\n",
    "plt.subplot(121)\n",
    "plt.plot(*zip(*Xtrue), marker='o', color='r', ls='')\n",
    "plt.subplot(122)\n",
    "plt.plot(*zip(*Xpro), marker='o', color='b', ls='')\n",
    "plt.title('Comparision of true and learned embeddings')\n",
    "plt.show()"
   ]
  },
  {
   "cell_type": "code",
   "execution_count": null,
   "metadata": {
    "collapsed": true
   },
   "outputs": [],
   "source": []
  },
  {
   "cell_type": "code",
   "execution_count": null,
   "metadata": {
    "collapsed": true
   },
   "outputs": [],
   "source": []
  }
 ],
 "metadata": {
  "kernelspec": {
   "display_name": "Python [conda env:forte]",
   "language": "python",
   "name": "conda-env-forte-py"
  },
  "language_info": {
   "codemirror_mode": {
    "name": "ipython",
    "version": 2
   },
   "file_extension": ".py",
   "mimetype": "text/x-python",
   "name": "python",
   "nbconvert_exporter": "python",
   "pygments_lexer": "ipython2",
   "version": "2.7.12"
  }
 },
 "nbformat": 4,
 "nbformat_minor": 1
}
