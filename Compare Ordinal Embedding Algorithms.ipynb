{
 "cells": [
  {
   "cell_type": "markdown",
   "metadata": {},
   "source": [
    "# Comparing Various Ordinal Embedding Algorithms"
   ]
  },
  {
   "cell_type": "code",
   "execution_count": 1,
   "metadata": {
    "collapsed": false
   },
   "outputs": [],
   "source": [
    "import time\n",
    "import FORTE.utils as utils\n",
    "from FORTE.algorithms import NuclearNormProjected, FactoredGradient\n",
    "import blackbox\n",
    "import numpy as np\n",
    "import matplotlib.pyplot as plt"
   ]
  },
  {
   "cell_type": "markdown",
   "metadata": {},
   "source": [
    "First, to demonstrate the basic idea of embedding from triplet data, we generate a true centered set of points `Xtrue` in two dimensions and using just ordinal information about `Xtruue`, find a set of points satisfying the same ordinal constraints.\n",
    "\n",
    "A triplet is a three tuple (i,j,k) which represents that X_i is closer to X_j than X_k. We add 10*nd*log(n) such triplets to the training set, `Strain`, and the same number to a test set `Stest`. "
   ]
  },
  {
   "cell_type": "code",
   "execution_count": 2,
   "metadata": {
    "collapsed": false
   },
   "outputs": [],
   "source": [
    "n = 30\n",
    "d = 2\n",
    "num_triplets = 20*d*n*np.log(n)\n",
    "\n",
    "Xtrue = np.random.randn(n, d)\n",
    "Xtrue = Xtrue - 1. / n * np.dot(np.ones((n, n)),  Xtrue)\n",
    "Mtrue = np.dot(Xtrue, Xtrue.transpose())\n",
    "\n",
    "# Train and test set\n",
    "Strain = utils.triplets(Xtrue, num_triplets)\n",
    "Stest = utils.triplets(Xtrue, num_triplets)"
   ]
  },
  {
   "cell_type": "markdown",
   "metadata": {},
   "source": [
    "We now use the `FactoredGradient`  algorithm to find an embedding `Xhat` that agrees with these triplets. A Procrustes transformation is used to align `Xhat` with `Xtrue`. This may take a few seconds to run."
   ]
  },
  {
   "cell_type": "code",
   "execution_count": 3,
   "metadata": {
    "collapsed": false
   },
   "outputs": [
    {
     "name": "stdout",
     "output_type": "stream",
     "text": [
      "Empirical Training loss = 0.0166625827003,Empirical Test loss = 0.0227885322225\n"
     ]
    }
   ],
   "source": [
    "Xhat = FactoredGradient.computeEmbedding(n, d, Strain,\n",
    "                                         num_random_restarts=0,\n",
    "                                         max_num_passes_SGD=16, max_iter_GD=50,\n",
    "                                         max_norm=1, epsilon=0.01, verbose=False)\n",
    "print ('Empirical Training loss = {},' \n",
    "       'Empirical Test loss = {}').format(utils.empirical_lossX(Xhat, Strain),\n",
    "                                          utils.empirical_lossX(Xhat, Stest))\n",
    "                                       "
   ]
  },
  {
   "cell_type": "markdown",
   "metadata": {},
   "source": [
    "Finally we use a Procrustes transformation to align `Xtrue` with `Xhat` and plot the resulting embeddings."
   ]
  },
  {
   "cell_type": "code",
   "execution_count": 4,
   "metadata": {
    "collapsed": false
   },
   "outputs": [
    {
     "data": {
      "image/png": "[encoded data removed]",
      "text/plain": [
       "<matplotlib.figure.Figure at 0x111c763d0>"
      ]
     },
     "metadata": {},
     "output_type": "display_data"
    }
   ],
   "source": [
    "_, Xpro, _ = utils.procrustes(Xtrue, Xhat)\n",
    "plt.figure(1)\n",
    "plt.subplot(121); plt.plot(*zip(*Xtrue), marker='o', color='r', ls='')\n",
    "plt.subplot(122); plt.plot(*zip(*Xpro), marker='o', color='b', ls='')\n",
    "plt.show()\n"
   ]
  },
  {
   "cell_type": "markdown",
   "metadata": {},
   "source": [
    "Now that we see how basic embedding works, we will compare the various embedding algorithms in the `FORTE` package to understand \n",
    "\n",
    "a) Their accuracy at embedding.\n",
    "b) Their average run-time. \n",
    "c) "
   ]
  }
 ],
 "metadata": {
  "anaconda-cloud": {},
  "kernelspec": {
   "display_name": "Python [conda env:blackbox]",
   "language": "python",
   "name": "conda-env-blackbox-py"
  },
  "language_info": {
   "codemirror_mode": {
    "name": "ipython",
    "version": 2
   },
   "file_extension": ".py",
   "mimetype": "text/x-python",
   "name": "python",
   "nbconvert_exporter": "python",
   "pygments_lexer": "ipython2",
   "version": "2.7.12"
  }
 },
 "nbformat": 4,
 "nbformat_minor": 1
}
